{
 "cells": [
  {
   "cell_type": "markdown",
   "id": "ba0571a6",
   "metadata": {},
   "source": [
    "## Python advance assignment 23"
   ]
  },
  {
   "cell_type": "markdown",
   "id": "52cd3639",
   "metadata": {},
   "source": [
    "**Q1. If you have any, what are your choices for increasing the comparison between different figures on \n",
    "the same graph?**\n",
    "\n",
    "Ans:- Matplotlib provides a convenient method called subplots for increasing the comparison between different figures on the \n",
    "\n",
    "same graph. Subplots mean a group of smaller axes (where each axis is a plot) that can exist together within a single figure."
   ]
  },
  {
   "cell_type": "markdown",
   "id": "9c469423",
   "metadata": {},
   "source": [
    "**Q2. Can you explain the benefit of compound interest over a higher rate of interest that does not \n",
    "compound after reading this chapter?**\n",
    "\n",
    "Ans:- You earn much higher returns with compound interest on long term deposits. Compounding interest monthly, quarterly and \n",
    "\n",
    "half-yearly can spike your interest even higher. The benefits of compound interest can be listed as follows:\n",
    "\n",
    "Reinvestment - The interest earned will be reinvested into the same deposit.\n",
    "\n",
    "Higher value of the deposit - Compound interest leads to a higher value of the deposit. Upon maturity, your deposit will be \n",
    "\n",
    "more than a deposit with simple interest.\n",
    "\n",
    "Long-term savings - Compound interest deposits encourage long-term savings as the return on investment is much higher after 10 \n",
    "\n",
    "years or more.\n",
    "\n",
    "Increased Earnings - Options of compounding monthly, quarterly, and half-yearly increase the interest earned."
   ]
  },
  {
   "cell_type": "markdown",
   "id": "a7b263ca",
   "metadata": {},
   "source": [
    "**Q3. What is a histogram, exactly? Name a numpy method for creating such a graph.**\n",
    "\n",
    "Ans:-A histogram is a bar graph-like representation of data that buckets a range of outcomes into columns along the x-axis. \n",
    "\n",
    "The y-axis represents the number count or percentage of occurrences in the data for each column and can be used to visualize \n",
    "\n",
    "data distributions.\n",
    "\n",
    "The pyplot submodule provides bar() function to generate bar graphs.Numpy has a built-in numpy. histogram() function which \n",
    "\n",
    "represents the frequency of data distribution in the graphical form"
   ]
  },
  {
   "cell_type": "markdown",
   "id": "9f93caf2",
   "metadata": {},
   "source": [
    "**Q4. If necessary, how do you change the aspect ratios between the X and Y axes?**\n",
    "\n",
    "Ans:-To fix the aspect ratio of a plot, we use the set_aspect method from the axes class.The method set_aspect() is used to \n",
    "\n",
    "set the aspect ratio. The parameter of this method is a number which is a division of the X-axis with respect to the Y-axis."
   ]
  },
  {
   "cell_type": "code",
   "execution_count": 3,
   "id": "fa623f65",
   "metadata": {},
   "outputs": [
    {
     "data": {
      "image/png": "[encoded data removed]",
      "text/plain": [
       "<Figure size 360x360 with 1 Axes>"
      ]
     },
     "metadata": {
      "needs_background": "light"
     },
     "output_type": "display_data"
    }
   ],
   "source": [
    "import matplotlib.pyplot as plt\n",
    "import numpy as np\n",
    "#Setting the axes.\n",
    "x = np.arange(1,5,0.2)\n",
    "y = np.sin(7*x)\n",
    "#Setting the Dimentions of the Graph\n",
    "plt.figure(figsize = (5,5))\n",
    "#selecting the current axis\n",
    "ax = plt.gca()\n",
    "#sets the ratio to 5\n",
    "ax.set_aspect(5)\n",
    "plt.plot(x,y)\n",
    "plt.title('plot with defined aspect ratio')\n",
    "plt.show()"
   ]
  },
  {
   "cell_type": "markdown",
   "id": "85475c60",
   "metadata": {},
   "source": [
    "**Q5. Compare and contrast the three types of array multiplication between two numpy arrays: dot \n",
    "product, outer product, and regular multiplication of two numpy arrays?**\n",
    "\n",
    "Ans:- In regular multiplication values of same index get multiplied.\n",
    "\n",
    "In dot product there is row wise multiplication, row of one array with column of second array and so on.\n",
    "\n",
    "In outer multiplication every element of first array a1 will be multiply by every element of other array a2 such such the \n",
    "\n",
    "number of columns will be equal to the number of element in another array a2."
   ]
  },
  {
   "cell_type": "markdown",
   "id": "16fc5194",
   "metadata": {},
   "source": [
    "**Q6. Before you buy a home, which numpy function will you use to measure your monthly mortgage \n",
    "payment?**\n",
    "\n",
    "Ans:-n order to calculate the monthly mortgage payment, you will use the numpy function . pmt(rate, nper, pv) where: rate = \n",
    "\n",
    "The periodic (monthly) interest rate."
   ]
  },
  {
   "cell_type": "markdown",
   "id": "e67f4886",
   "metadata": {},
   "source": [
    "**Q7. Can string data be stored in numpy arrays? If so, list at least one restriction that applies to this \n",
    "data?**\n",
    "\n",
    "Ans:-Yes, an array can store the string. The limitation which imposed on the string data is, whenever we store the data of \n",
    "\n",
    "string dtype then it should should keep in mind that the string which is having the maximum length is the limit."
   ]
  }
 ],
 "metadata": {
  "kernelspec": {
   "display_name": "Python 3 (ipykernel)",
   "language": "python",
   "name": "python3"
  },
  "language_info": {
   "codemirror_mode": {
    "name": "ipython",
    "version": 3
   },
   "file_extension": ".py",
   "mimetype": "text/x-python",
   "name": "python",
   "nbconvert_exporter": "python",
   "pygments_lexer": "ipython3",
   "version": "3.9.7"
  }
 },
 "nbformat": 4,
 "nbformat_minor": 5
}
